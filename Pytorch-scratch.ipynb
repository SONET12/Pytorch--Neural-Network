{
 "cells": [
  {
   "cell_type": "code",
   "execution_count": 1,
   "id": "4eaab77e",
   "metadata": {},
   "outputs": [
    {
     "name": "stdout",
     "output_type": "stream",
     "text": [
      "tensor([80., 15.])\n"
     ]
    }
   ],
   "source": [
    "import torch\n",
    "\n",
    "x = torch.Tensor ([10, 3])\n",
    "y = torch.Tensor ([8, 5])\n",
    "\n",
    "print (x*y)"
   ]
  },
  {
   "cell_type": "code",
   "execution_count": 2,
   "id": "2567dcff",
   "metadata": {},
   "outputs": [
    {
     "name": "stdout",
     "output_type": "stream",
     "text": [
      "tensor([[0., 0., 0.],\n",
      "        [0., 0., 0.],\n",
      "        [0., 0., 0.],\n",
      "        [0., 0., 0.],\n",
      "        [0., 0., 0.],\n",
      "        [0., 0., 0.],\n",
      "        [0., 0., 0.],\n",
      "        [0., 0., 0.]])\n"
     ]
    }
   ],
   "source": [
    "x = torch.zeros([8, 3])\n",
    "print (x)"
   ]
  },
  {
   "cell_type": "code",
   "execution_count": 3,
   "id": "80708575",
   "metadata": {},
   "outputs": [
    {
     "name": "stdout",
     "output_type": "stream",
     "text": [
      "torch.Size([8, 3])\n"
     ]
    }
   ],
   "source": [
    "print (x.shape)"
   ]
  },
  {
   "cell_type": "code",
   "execution_count": 4,
   "id": "aebd8023",
   "metadata": {},
   "outputs": [
    {
     "name": "stdout",
     "output_type": "stream",
     "text": [
      "tensor([[0.3495, 0.8190, 0.9127, 0.9356, 0.1675, 0.1176],\n",
      "        [0.5807, 0.7295, 0.7556, 0.8373, 0.1649, 0.7466],\n",
      "        [0.3269, 0.2139, 0.5560, 0.3119, 0.1610, 0.6339]])\n"
     ]
    }
   ],
   "source": [
    "y = torch.rand([3, 6])\n",
    "print (y)"
   ]
  },
  {
   "cell_type": "code",
   "execution_count": 6,
   "id": "86d5c342",
   "metadata": {},
   "outputs": [
    {
     "data": {
      "text/plain": [
       "tensor([[0.3495, 0.8190],\n",
       "        [0.9127, 0.9356],\n",
       "        [0.1675, 0.1176],\n",
       "        [0.5807, 0.7295],\n",
       "        [0.7556, 0.8373],\n",
       "        [0.1649, 0.7466],\n",
       "        [0.3269, 0.2139],\n",
       "        [0.5560, 0.3119],\n",
       "        [0.1610, 0.6339]])"
      ]
     },
     "execution_count": 6,
     "metadata": {},
     "output_type": "execute_result"
    }
   ],
   "source": [
    "y.view ([9,2])"
   ]
  },
  {
   "cell_type": "code",
   "execution_count": 7,
   "id": "4eb9406c",
   "metadata": {},
   "outputs": [
    {
     "data": {
      "text/plain": [
       "tensor([[0.3495, 0.8190, 0.9127, 0.9356, 0.1675, 0.1176],\n",
       "        [0.5807, 0.7295, 0.7556, 0.8373, 0.1649, 0.7466],\n",
       "        [0.3269, 0.2139, 0.5560, 0.3119, 0.1610, 0.6339]])"
      ]
     },
     "execution_count": 7,
     "metadata": {},
     "output_type": "execute_result"
    }
   ],
   "source": [
    "y"
   ]
  },
  {
   "cell_type": "code",
   "execution_count": 8,
   "id": "f7cb46eb",
   "metadata": {},
   "outputs": [],
   "source": [
    "y = y.view ([9,2])"
   ]
  },
  {
   "cell_type": "code",
   "execution_count": 9,
   "id": "408b67c1",
   "metadata": {},
   "outputs": [
    {
     "data": {
      "text/plain": [
       "tensor([[0.3495, 0.8190],\n",
       "        [0.9127, 0.9356],\n",
       "        [0.1675, 0.1176],\n",
       "        [0.5807, 0.7295],\n",
       "        [0.7556, 0.8373],\n",
       "        [0.1649, 0.7466],\n",
       "        [0.3269, 0.2139],\n",
       "        [0.5560, 0.3119],\n",
       "        [0.1610, 0.6339]])"
      ]
     },
     "execution_count": 9,
     "metadata": {},
     "output_type": "execute_result"
    }
   ],
   "source": [
    "y"
   ]
  },
  {
   "cell_type": "code",
   "execution_count": null,
   "id": "eb3fb6f5",
   "metadata": {},
   "outputs": [],
   "source": []
  }
 ],
 "metadata": {
  "kernelspec": {
   "display_name": "Python 3 (ipykernel)",
   "language": "python",
   "name": "python3"
  },
  "language_info": {
   "codemirror_mode": {
    "name": "ipython",
    "version": 3
   },
   "file_extension": ".py",
   "mimetype": "text/x-python",
   "name": "python",
   "nbconvert_exporter": "python",
   "pygments_lexer": "ipython3",
   "version": "3.10.6"
  }
 },
 "nbformat": 4,
 "nbformat_minor": 5
}
